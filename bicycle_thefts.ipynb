{
  "nbformat": 4,
  "nbformat_minor": 0,
  "metadata": {
    "colab": {
      "name": "Untitled1.ipynb",
      "provenance": [],
      "collapsed_sections": [],
      "mount_file_id": "1ph01Z7wFYeV0ZVu0-_yARXMNKuqw62kQ",
      "authorship_tag": "ABX9TyPdGsWPVrjyVi/wx+Zwx6St",
      "include_colab_link": true
    },
    "kernelspec": {
      "name": "python3",
      "display_name": "Python 3"
    },
    "language_info": {
      "name": "python"
    }
  },
  "cells": [
    {
      "cell_type": "markdown",
      "metadata": {
        "id": "view-in-github",
        "colab_type": "text"
      },
      "source": [
        "<a href=\"https://colab.research.google.com/github/anaustinbeing/google-colab/blob/main/bicycle_thefts.ipynb\" target=\"_parent\"><img src=\"https://colab.research.google.com/assets/colab-badge.svg\" alt=\"Open In Colab\"/></a>"
      ]
    },
    {
      "cell_type": "code",
      "execution_count": null,
      "metadata": {
        "id": "W-I_JIEcBOgp"
      },
      "outputs": [],
      "source": [
        "import pandas as pd\n",
        "import matplotlib.pyplot as plt\n",
        "import seaborn as sns"
      ]
    },
    {
      "cell_type": "code",
      "source": [
        "df = pd.read_csv('/content/Bicycle_Thefts.csv')"
      ],
      "metadata": {
        "id": "3l55MRTaBZ1A"
      },
      "execution_count": null,
      "outputs": []
    },
    {
      "cell_type": "code",
      "source": [
        "df.info()"
      ],
      "metadata": {
        "colab": {
          "base_uri": "https://localhost:8080/"
        },
        "id": "LARF9Hu3BrJT",
        "outputId": "6276eec0-3262-4fba-ad38-01ccdd1d12f5"
      },
      "execution_count": null,
      "outputs": [
        {
          "output_type": "stream",
          "name": "stdout",
          "text": [
            "<class 'pandas.core.frame.DataFrame'>\n",
            "RangeIndex: 27128 entries, 0 to 27127\n",
            "Data columns (total 35 columns):\n",
            " #   Column                 Non-Null Count  Dtype  \n",
            "---  ------                 --------------  -----  \n",
            " 0   X                      26877 non-null  float64\n",
            " 1   Y                      26877 non-null  float64\n",
            " 2   OBJECTID_1             27128 non-null  int64  \n",
            " 3   OBJECTID               27128 non-null  int64  \n",
            " 4   event_unique_id        27128 non-null  object \n",
            " 5   Primary_Offence        27128 non-null  object \n",
            " 6   Occurrence_Date        27128 non-null  object \n",
            " 7   Occurrence_Year        27128 non-null  int64  \n",
            " 8   Occurrence_Month       27128 non-null  object \n",
            " 9   Occurrence_DayOfWeek   27128 non-null  object \n",
            " 10  Occurrence_DayOfMonth  27128 non-null  int64  \n",
            " 11  Occurrence_DayOfYear   27128 non-null  int64  \n",
            " 12  Occurrence_Hour        27128 non-null  int64  \n",
            " 13  Report_Date            27128 non-null  object \n",
            " 14  Report_Year            27128 non-null  int64  \n",
            " 15  Report_Month           27128 non-null  object \n",
            " 16  Report_DayOfWeek       27128 non-null  object \n",
            " 17  Report_DayOfMonth      27128 non-null  int64  \n",
            " 18  Report_DayOfYear       27128 non-null  int64  \n",
            " 19  Report_Hour            27128 non-null  int64  \n",
            " 20  Division               27128 non-null  object \n",
            " 21  City                   27128 non-null  object \n",
            " 22  Hood_ID                27128 non-null  object \n",
            " 23  NeighbourhoodName      27128 non-null  object \n",
            " 24  Location_Type          27128 non-null  object \n",
            " 25  Premises_Type          27128 non-null  object \n",
            " 26  Bike_Make              27128 non-null  object \n",
            " 27  Bike_Model             16907 non-null  object \n",
            " 28  Bike_Type              27128 non-null  object \n",
            " 29  Bike_Speed             27128 non-null  int64  \n",
            " 30  Bike_Colour            24917 non-null  object \n",
            " 31  Cost_of_Bike           25259 non-null  float64\n",
            " 32  Status                 27128 non-null  object \n",
            " 33  Longitude              27128 non-null  float64\n",
            " 34  Latitude               27128 non-null  float64\n",
            "dtypes: float64(5), int64(11), object(19)\n",
            "memory usage: 7.2+ MB\n"
          ]
        }
      ]
    },
    {
      "cell_type": "code",
      "source": [
        "df = df[['Primary_Offence','Occurrence_DayOfWeek','Report_DayOfWeek', 'Hood_ID', 'Bike_Make','Bike_Type', 'Bike_Colour', 'Cost_of_Bike', 'Status', 'Location_Type']]\n",
        "df.info()"
      ],
      "metadata": {
        "colab": {
          "base_uri": "https://localhost:8080/"
        },
        "id": "8-32PbRRBt_z",
        "outputId": "70eb1693-b68d-4763-af53-369d3aa00173"
      },
      "execution_count": null,
      "outputs": [
        {
          "output_type": "stream",
          "name": "stdout",
          "text": [
            "<class 'pandas.core.frame.DataFrame'>\n",
            "RangeIndex: 27128 entries, 0 to 27127\n",
            "Data columns (total 10 columns):\n",
            " #   Column                Non-Null Count  Dtype  \n",
            "---  ------                --------------  -----  \n",
            " 0   Primary_Offence       27128 non-null  object \n",
            " 1   Occurrence_DayOfWeek  27128 non-null  object \n",
            " 2   Report_DayOfWeek      27128 non-null  object \n",
            " 3   Hood_ID               27128 non-null  object \n",
            " 4   Bike_Make             27128 non-null  object \n",
            " 5   Bike_Type             27128 non-null  object \n",
            " 6   Bike_Colour           24917 non-null  object \n",
            " 7   Cost_of_Bike          25259 non-null  float64\n",
            " 8   Status                27128 non-null  object \n",
            " 9   Location_Type         27128 non-null  object \n",
            "dtypes: float64(1), object(9)\n",
            "memory usage: 2.1+ MB\n"
          ]
        }
      ]
    },
    {
      "cell_type": "code",
      "source": [
        "df.value_counts()"
      ],
      "metadata": {
        "colab": {
          "base_uri": "https://localhost:8080/"
        },
        "id": "6exiyS1lB4Ej",
        "outputId": "06987223-a3a3-42da-80b6-66ebfbcbc884"
      },
      "execution_count": null,
      "outputs": [
        {
          "output_type": "execute_result",
          "data": {
            "text/plain": [
              "Primary_Offence               Occurrence_DayOfWeek  Report_DayOfWeek  Hood_ID  Bike_Make        Bike_Type  Bike_Colour  Cost_of_Bike  Status     Location_Type                                                         \n",
              "THEFT OF EBIKE OVER $5000     Friday                Wednesday         20       GI               EL         BLK          3499.0        STOLEN     Other Commercial / Corporate Places (For Profit, Warehouse, Corp. Bldg    8\n",
              "B&E                           Wednesday             Wednesday         32       NINEBOT          SC         BLK          1000.0        STOLEN     Single Home, House (Attach Garage, Cottage, Mobile)                       6\n",
              "THEFT UNDER                   Tuesday               Tuesday           6        UK               MT         SIL          0.0           STOLEN     Parking Lots (Apt., Commercial Or Non-Commercial)                         4\n",
              "THEFT UNDER - BICYCLE         Wednesday             Wednesday         82       GI               MT         BLK          1300.0        STOLEN     Apartment (Rooming House, Condo)                                          4\n",
              "B&E                           Wednesday             Monday            56       KONA             MT         BLKYEL       900.0         STOLEN     Private Property Structure (Pool, Shed, Detached Garage)                  4\n",
              "                                                                                                                                                                                                                          ..\n",
              "THEFT UNDER                   Saturday              Wednesday         95       GI               RG         OTH          519.0         STOLEN     Single Home, House (Attach Garage, Cottage, Mobile)                       1\n",
              "                                                                      93       NO               RC         RED          0.0           STOLEN     Single Home, House (Attach Garage, Cottage, Mobile)                       1\n",
              "                                                                               GF               RG         BLU          350.0         STOLEN     Apartment (Rooming House, Condo)                                          1\n",
              "                                                                      91       OTHER            OT         BLK          400.0         STOLEN     Single Home, House (Attach Garage, Cottage, Mobile)                       1\n",
              "WEAPON - POSS DANGEROUS PURP  Monday                Monday            85       FUJI             RG         RED          800.0         RECOVERED  Apartment (Rooming House, Condo)                                          1\n",
              "Length: 23020, dtype: int64"
            ]
          },
          "metadata": {},
          "execution_count": 8
        }
      ]
    },
    {
      "cell_type": "code",
      "source": [
        "for x in df:\n",
        "  print(f'number of unique values of {x}: {df[x].nunique()}')"
      ],
      "metadata": {
        "colab": {
          "base_uri": "https://localhost:8080/"
        },
        "id": "uXnM8j_cB-A1",
        "outputId": "0fc99d3d-01f4-42f6-94a9-3d9990792dbf"
      },
      "execution_count": null,
      "outputs": [
        {
          "output_type": "stream",
          "name": "stdout",
          "text": [
            "number of unique values of Primary_Offence: 69\n",
            "number of unique values of Occurrence_DayOfWeek: 7\n",
            "number of unique values of Report_DayOfWeek: 7\n",
            "number of unique values of Hood_ID: 141\n",
            "number of unique values of Bike_Make: 872\n",
            "number of unique values of Bike_Type: 13\n",
            "number of unique values of Bike_Colour: 256\n",
            "number of unique values of Cost_of_Bike: 1741\n",
            "number of unique values of Status: 3\n",
            "number of unique values of Location_Type: 43\n"
          ]
        }
      ]
    },
    {
      "cell_type": "code",
      "source": [
        "bike_colour = pd.crosstab(index=df['Bike_Colour'],columns=df['Status'], margins=True)\n",
        "bike_colour['STOLEN'].sort_values(ascending=False)"
      ],
      "metadata": {
        "colab": {
          "base_uri": "https://localhost:8080/"
        },
        "id": "0DEbMvoeCav1",
        "outputId": "f284b5ea-1ab2-4be4-be1c-978e9ca048fd"
      },
      "execution_count": null,
      "outputs": [
        {
          "output_type": "execute_result",
          "data": {
            "text/plain": [
              "Bike_Colour\n",
              "All       24186\n",
              "BLK        7695\n",
              "BLU        2382\n",
              "GRY        2322\n",
              "WHI        2014\n",
              "          ...  \n",
              "WHT           0\n",
              "LGRYEL        0\n",
              "DARK          0\n",
              "WHIT          0\n",
              "18            0\n",
              "Name: STOLEN, Length: 257, dtype: int64"
            ]
          },
          "metadata": {},
          "execution_count": 30
        }
      ]
    },
    {
      "cell_type": "code",
      "source": [
        "bike_colour = pd.crosstab(index=df['Cost_of_Bike'],columns=df['Status'], margins=True)\n",
        "bike_colour['STOLEN'].sort_values(ascending=False)\n",
        "sum(df['Cost_of_Bike'] == 0)"
      ],
      "metadata": {
        "colab": {
          "base_uri": "https://localhost:8080/"
        },
        "id": "V3dlCEiaIpSA",
        "outputId": "1023c7c6-ddf4-4f6c-b86f-50aea7b0cfd4"
      },
      "execution_count": null,
      "outputs": [
        {
          "output_type": "execute_result",
          "data": {
            "text/plain": [
              "1252"
            ]
          },
          "metadata": {},
          "execution_count": 34
        }
      ]
    },
    {
      "cell_type": "code",
      "source": [
        ""
      ],
      "metadata": {
        "id": "grfBgiOVD_Dj"
      },
      "execution_count": null,
      "outputs": []
    }
  ]
}